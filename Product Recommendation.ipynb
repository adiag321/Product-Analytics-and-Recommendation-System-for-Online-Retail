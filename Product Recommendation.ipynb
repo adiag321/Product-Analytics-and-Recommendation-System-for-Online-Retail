{
 "cells": [
  {
   "cell_type": "markdown",
   "id": "ed5cc131",
   "metadata": {},
   "source": [
    "## Product Analytics and Recommendations on Online Retail data\n",
    "\n",
    "In this file, we are going to focus on developing a recommendation model that will recommend products based on previous purchase orders and their quantities."
   ]
  },
  {
   "cell_type": "code",
   "execution_count": 1,
   "id": "fa2db74d",
   "metadata": {},
   "outputs": [],
   "source": [
    "import pandas as pd\n",
    "import numpy as np\n",
    "import calendar\n",
    "import datetime as dt\n",
    "import warnings\n",
    "warnings.filterwarnings('ignore')\n",
    "\n",
    "import matplotlib.pyplot as plt\n",
    "%matplotlib inline\n",
    "\n",
    "from sklearn.metrics.pairwise import cosine_similarity"
   ]
  },
  {
   "cell_type": "markdown",
   "id": "cc351d6a",
   "metadata": {},
   "source": [
    "When loading the dataset, we filter all rows in column ‘Quantity’ that are greater than 0. This means that we now have a data record that contains at least one purchased product per line."
   ]
  },
  {
   "cell_type": "code",
   "execution_count": null,
   "id": "86bd1b65",
   "metadata": {},
   "outputs": [],
   "source": [
    "df = pd.read_excel('./data/Online Retail.xlsx', sheet_name='Online Retail')\n",
    "df = df.loc[df['Quantity'] > 0]\n",
    "df = df.dropna(subset=['CustomerID'])\n",
    "df.head()"
   ]
  },
  {
   "cell_type": "code",
   "execution_count": null,
   "id": "01feafb2",
   "metadata": {},
   "outputs": [],
   "source": []
  }
 ],
 "metadata": {
  "kernelspec": {
   "display_name": "base",
   "language": "python",
   "name": "python3"
  },
  "language_info": {
   "codemirror_mode": {
    "name": "ipython",
    "version": 3
   },
   "file_extension": ".py",
   "mimetype": "text/x-python",
   "name": "python",
   "nbconvert_exporter": "python",
   "pygments_lexer": "ipython3",
   "version": "3.11.5"
  }
 },
 "nbformat": 4,
 "nbformat_minor": 5
}
